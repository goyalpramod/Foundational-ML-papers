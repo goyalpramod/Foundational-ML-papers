{
 "cells": [
  {
   "cell_type": "markdown",
   "id": "df32e64a-a48c-4f12-9685-4d73fdc06366",
   "metadata": {},
   "source": [
    "This is a notebook made for fun and experimentation, it is not a tutorial. Consider checking out the other notebook for a structured approach."
   ]
  },
  {
   "cell_type": "markdown",
   "id": "c5fb707e",
   "metadata": {},
   "source": []
  }
 ],
 "metadata": {
  "kernelspec": {
   "display_name": "Python 3 (ipykernel)",
   "language": "python",
   "name": "python3"
  },
  "language_info": {
   "codemirror_mode": {
    "name": "ipython",
    "version": 3
   },
   "file_extension": ".py",
   "mimetype": "text/x-python",
   "name": "python",
   "nbconvert_exporter": "python",
   "pygments_lexer": "ipython3",
   "version": "3.12.10"
  }
 },
 "nbformat": 4,
 "nbformat_minor": 5
}
