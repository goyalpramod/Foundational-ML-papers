{
 "cells": [
  {
   "cell_type": "markdown",
   "id": "e11538cb-1789-4c9c-a9b2-f1657f2459ae",
   "metadata": {},
   "source": [
    "This is a re-implementation of the original transformers. This is for my general practice, for more of a tutorial structure. Consider going through my previous implementation.  "
   ]
  },
  {
   "cell_type": "code",
   "execution_count": 2,
   "id": "e7b0a1b5",
   "metadata": {},
   "outputs": [],
   "source": [
    "import torch\n",
    "import torch.nn as nn\n",
    "import torch.nn.functional as F\n",
    "\n",
    "import numpy as np"
   ]
  },
  {
   "cell_type": "code",
   "execution_count": 10,
   "id": "09bf925a",
   "metadata": {},
   "outputs": [],
   "source": [
    "class MultiHeadAttention(nn.Module):\n",
    "\n",
    "    def __init__(self, num_heads, d_model):\n",
    "        super().__init__()\n",
    "        assert d_model%num_heads == 0\n",
    "\n",
    "        self.num_heads = num_heads\n",
    "        self.d_model = d_model\n",
    "        self.d_k = d_model//num_heads\n",
    "\n",
    "        self.W_Q = nn.Linear(self.d_model, self.d_model)\n",
    "        self.W_K = nn.Linear(self.d_model, self.d_model)\n",
    "        self.W_V = nn.Linear(self.d_model, self.d_model)\n",
    "        self.W_O = nn.Linear(self.d_model, self.d_model)\n",
    "\n",
    "\n",
    "    @staticmethod\n",
    "    def scaled_dot_product_attention(Q,K,V, mask):\n",
    "        \"\"\"\n",
    "        Args:\n",
    "            query: (batch_size, num_heads, seq_len_q, d_q)\n",
    "            key: (batch_size, num_heads, seq_len_k, d_k)\n",
    "            value: (batch_size, num_heads, seq_len_v, d_v)\n",
    "            mask: Optional mask to prevent attention to certain positions\n",
    "        \"\"\"\n",
    "        assert Q.shape[-1] == K.shape[-1] #query and key dimension should be equal\n",
    "\n",
    "        attention_score  = (torch.matmul(Q,K.transpose(-2,-1)))/torch.sqrt(torch.tensor(K.shape[-1]))\n",
    "    \n",
    "        if mask:\n",
    "            upper_mask = torch.tril(torch.ones(attention_score.shape[-2], attention_score.shape[-1]))\n",
    "            upper_mask.masked_fill_(upper_mask==0, float('-inf'))\n",
    "            attention_score = attention_score + upper_mask\n",
    "\n",
    "        attention_weights  = F.softmax(attention_score, dim=-1)\n",
    "        assert attention_weights.shape == (Q.shape[0], Q.shape[1], Q.shape[2], K.shape[2])\n",
    "\n",
    "        Z = torch.einsum('bhqk,bhkd -> bhqd', attention_weights, V)\n",
    "        \n",
    "        return Z\n",
    "    \n",
    "    def forward(self, input_matrix):\n",
    "        batch_size, seq_len = input_matrix.shape[0], input_matrix.shape[1]\n",
    "\n",
    "        self.Q = self.W_Q(input_matrix).reshape(batch_size, seq_len, self.num_heads, self.d_k).transpose(1,2)\n",
    "        self.K = self.W_K(input_matrix).reshape(batch_size, seq_len, self.num_heads, self.d_k).transpose(1,2)\n",
    "        self.V = self.W_V(input_matrix).reshape(batch_size, seq_len, self.num_heads, self.d_k).transpose(1,2)\n",
    "\n",
    "        attention_score = self.scaled_dot_product_attention(self.Q, self.K, self.V, 0).transpose(1,2).reshape(batch_size, seq_len,self.d_model)\n",
    "        return self.W_O(attention_score)"
   ]
  },
  {
   "cell_type": "code",
   "execution_count": 11,
   "id": "d67b6be6",
   "metadata": {},
   "outputs": [
    {
     "name": "stdout",
     "output_type": "stream",
     "text": [
      "=== Testing Scaled Dot Product Attention ===\n",
      "SDPA Output shape: torch.Size([2, 4, 6, 8])\n",
      "SDPA Expected: (2, 4, 6, 8)\n",
      "SDPA Masked output shape: torch.Size([2, 4, 6, 8])\n",
      "✅ SDPA tests passed!\n",
      "\n",
      "=== Testing Full MultiHeadAttention ===\n",
      "Input shape: torch.Size([2, 6, 32])\n",
      "MHA Output shape: torch.Size([2, 6, 32])\n",
      "MHA Expected: (2, 6, 32)\n",
      "✅ Output values look reasonable!\n",
      "✅ Full MHA test passed!\n",
      "\n",
      "=== Testing with different input sizes ===\n",
      "Different seq_len input: torch.Size([2, 10, 32])\n",
      "Different seq_len output: torch.Size([2, 10, 32])\n",
      "✅ Variable sequence length test passed!\n"
     ]
    }
   ],
   "source": [
    "def test_attention():\n",
    "    # Small test case\n",
    "    batch_size, num_heads, seq_len, d_k = 2, 4, 6, 8\n",
    "    d_model = num_heads * d_k  # 32\n",
    "    \n",
    "    print(\"=== Testing Scaled Dot Product Attention ===\")\n",
    "    \n",
    "    # Create sample tensors for scaled_dot_product_attention\n",
    "    Q = torch.randn(batch_size, num_heads, seq_len, d_k)\n",
    "    K = torch.randn(batch_size, num_heads, seq_len, d_k)\n",
    "    V = torch.randn(batch_size, num_heads, seq_len, d_k)\n",
    "    \n",
    "    # Test without mask\n",
    "    output = MultiHeadAttention.scaled_dot_product_attention(Q, K, V, mask=False)\n",
    "    print(f\"SDPA Output shape: {output.shape}\")\n",
    "    print(f\"SDPA Expected: {(batch_size, num_heads, seq_len, d_k)}\")\n",
    "    \n",
    "    # Test with mask\n",
    "    output_masked = MultiHeadAttention.scaled_dot_product_attention(Q, K, V, mask=True)\n",
    "    print(f\"SDPA Masked output shape: {output_masked.shape}\")\n",
    "    \n",
    "    print(\"✅ SDPA tests passed!\")\n",
    "    \n",
    "    print(\"\\n=== Testing Full MultiHeadAttention ===\")\n",
    "    \n",
    "    # Create MultiHeadAttention module\n",
    "    mha = MultiHeadAttention(num_heads=num_heads, d_model=d_model)\n",
    "    \n",
    "    # Create input tensor (batch_size, seq_len, d_model)\n",
    "    input_tensor = torch.randn(batch_size, seq_len, d_model)\n",
    "    print(f\"Input shape: {input_tensor.shape}\")\n",
    "    \n",
    "    # Test forward pass\n",
    "    try:\n",
    "        mha_output = mha.forward(input_tensor)\n",
    "        print(f\"MHA Output shape: {mha_output.shape}\")\n",
    "        print(f\"MHA Expected: {(batch_size, seq_len, d_model)}\")\n",
    "        \n",
    "        # Check if output has reasonable values (not NaN or inf)\n",
    "        if torch.isnan(mha_output).any():\n",
    "            print(\"❌ Output contains NaN values!\")\n",
    "        elif torch.isinf(mha_output).any():\n",
    "            print(\"❌ Output contains infinite values!\")\n",
    "        else:\n",
    "            print(\"✅ Output values look reasonable!\")\n",
    "            \n",
    "        print(\"✅ Full MHA test passed!\")\n",
    "        \n",
    "    except Exception as e:\n",
    "        print(f\"❌ MHA test failed with error: {e}\")\n",
    "        print(\"Check your forward() method implementation\")\n",
    "    \n",
    "    print(\"\\n=== Testing with different input sizes ===\")\n",
    "    \n",
    "    # Test with different sequence length\n",
    "    seq_len_2 = 10\n",
    "    input_tensor_2 = torch.randn(batch_size, seq_len_2, d_model)\n",
    "    \n",
    "    try:\n",
    "        mha_output_2 = mha.forward(input_tensor_2)\n",
    "        print(f\"Different seq_len input: {input_tensor_2.shape}\")\n",
    "        print(f\"Different seq_len output: {mha_output_2.shape}\")\n",
    "        print(\"✅ Variable sequence length test passed!\")\n",
    "    except Exception as e:\n",
    "        print(f\"❌ Variable sequence length test failed: {e}\")\n",
    "\n",
    "# Run the test\n",
    "test_attention()"
   ]
  },
  {
   "cell_type": "code",
   "execution_count": null,
   "id": "cbb383be",
   "metadata": {},
   "outputs": [],
   "source": [
    "class Encoder(nn.Module):\n",
    "\n",
    "    def __init__(self):\n",
    "        super().__init__()"
   ]
  },
  {
   "cell_type": "code",
   "execution_count": null,
   "id": "f4bcd6d4",
   "metadata": {},
   "outputs": [],
   "source": [
    "class Decoder(nn.Module):\n",
    "\n",
    "    def __init__(self):\n",
    "        super().__init__()"
   ]
  },
  {
   "cell_type": "code",
   "execution_count": null,
   "id": "54fedea1",
   "metadata": {},
   "outputs": [],
   "source": [
    "class PositionalEncoding(nn.Module):\n",
    "\n",
    "    def __init__(self):\n",
    "        super().__init__()\n",
    "\n",
    "    def forward(self, input_matrix):\n",
    "        pass"
   ]
  },
  {
   "cell_type": "code",
   "execution_count": 12,
   "id": "daf13f7f",
   "metadata": {},
   "outputs": [],
   "source": [
    "class FeedForwardNetwork(nn.Module):\n",
    "\n",
    "    def __init__(self,d_model,d_ff,dropout=0.1):\n",
    "        super().__init__()\n",
    "        self.ff_model = nn.Sequential(\n",
    "            nn.Linear(d_model,d_ff), \n",
    "            nn.ReLU(),\n",
    "            nn.Dropout(dropout),\n",
    "            nn.Linear(d_ff, d_model),\n",
    "            nn.Dropout(dropout),\n",
    "        )\n",
    "\n",
    "    def forward(self,input_matrix):\n",
    "        return self.ff_model(input_matrix)"
   ]
  },
  {
   "cell_type": "code",
   "execution_count": null,
   "id": "5f075555",
   "metadata": {},
   "outputs": [],
   "source": [
    "class Transformer(nn.Module):\n",
    "\n",
    "    def __init__(self):\n",
    "        super().__init__()"
   ]
  },
  {
   "cell_type": "code",
   "execution_count": null,
   "id": "d2f74470",
   "metadata": {},
   "outputs": [],
   "source": [
    "def train():\n",
    "    pass"
   ]
  }
 ],
 "metadata": {
  "kernelspec": {
   "display_name": "foundational-ml-papers",
   "language": "python",
   "name": "python3"
  },
  "language_info": {
   "codemirror_mode": {
    "name": "ipython",
    "version": 3
   },
   "file_extension": ".py",
   "mimetype": "text/x-python",
   "name": "python",
   "nbconvert_exporter": "python",
   "pygments_lexer": "ipython3",
   "version": "3.12.10"
  }
 },
 "nbformat": 4,
 "nbformat_minor": 5
}
