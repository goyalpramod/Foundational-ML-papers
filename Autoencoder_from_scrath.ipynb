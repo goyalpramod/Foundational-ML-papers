{
  "nbformat": 4,
  "nbformat_minor": 0,
  "metadata": {
    "colab": {
      "provenance": [],
      "authorship_tag": "ABX9TyNY3GY05JMHnpurGtvuEnbC",
      "include_colab_link": true
    },
    "kernelspec": {
      "name": "python3",
      "display_name": "Python 3"
    },
    "language_info": {
      "name": "python"
    }
  },
  "cells": [
    {
      "cell_type": "markdown",
      "metadata": {
        "id": "view-in-github",
        "colab_type": "text"
      },
      "source": [
        "<a href=\"https://colab.research.google.com/github/goyalpramod/paper_implementations/blob/main/Autoencoder_from_scrath.ipynb\" target=\"_parent\"><img src=\"https://colab.research.google.com/assets/colab-badge.svg\" alt=\"Open In Colab\"/></a>"
      ]
    },
    {
      "cell_type": "code",
      "execution_count": null,
      "metadata": {
        "id": "Asiizf2GTZUL"
      },
      "outputs": [],
      "source": [
        "# Code implementation of the following paper -> [Tutorial on Variational Autoencoders](https://arxiv.org/pdf/1606.05908)\n",
        "# or this [link](https://www.cs.toronto.edu/~hinton/absps/science.pdf)"
      ]
    },
    {
      "cell_type": "markdown",
      "source": [
        "Code implementation of the following paper -> [Tutorial on Variational Autoencoders](https://arxiv.org/pdf/1606.05908)\n",
        "or this [link](https://www.cs.toronto.edu/~hinton/absps/science.pdf)"
      ],
      "metadata": {
        "id": "jGs1gWBVUk-g"
      }
    },
    {
      "cell_type": "markdown",
      "source": [
        "Consider reading the following blogs to better grasp the idea\n",
        "* [Lil'log's Blog](https://lilianweng.github.io/posts/2018-08-12-vae/#vae-variational-autoencoder)"
      ],
      "metadata": {
        "id": "S9_wqcDiTdDS"
      }
    },
    {
      "cell_type": "code",
      "source": [],
      "metadata": {
        "id": "Yesc6MXBTjyb"
      },
      "execution_count": null,
      "outputs": []
    }
  ]
}