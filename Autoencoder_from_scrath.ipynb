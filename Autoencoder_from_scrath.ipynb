{
  "nbformat": 4,
  "nbformat_minor": 0,
  "metadata": {
    "colab": {
      "provenance": [],
      "authorship_tag": "ABX9TyNZ4wha8iSPIbqju5gL2Jj2",
      "include_colab_link": true
    },
    "kernelspec": {
      "name": "python3",
      "display_name": "Python 3"
    },
    "language_info": {
      "name": "python"
    }
  },
  "cells": [
    {
      "cell_type": "markdown",
      "metadata": {
        "id": "view-in-github",
        "colab_type": "text"
      },
      "source": [
        "<a href=\"https://colab.research.google.com/github/goyalpramod/paper_implementations/blob/main/Autoencoder_from_scrath.ipynb\" target=\"_parent\"><img src=\"https://colab.research.google.com/assets/colab-badge.svg\" alt=\"Open In Colab\"/></a>"
      ]
    },
    {
      "cell_type": "code",
      "execution_count": null,
      "metadata": {
        "id": "Asiizf2GTZUL"
      },
      "outputs": [],
      "source": [
        "# Code implementation of the following paper -> [Tutorial on Variational Autoencoders](https://arxiv.org/pdf/1606.05908)\n",
        "# or this [link](https://www.cs.toronto.edu/~hinton/absps/science.pdf)"
      ]
    },
    {
      "cell_type": "markdown",
      "source": [
        "Code implementation of the following paper -> [Tutorial on Variational Autoencoders](https://arxiv.org/pdf/1606.05908)\n",
        "or this [link](https://www.cs.toronto.edu/~hinton/absps/science.pdf)"
      ],
      "metadata": {
        "id": "jGs1gWBVUk-g"
      }
    },
    {
      "cell_type": "markdown",
      "source": [
        "Consider reading the following blogs to better grasp the idea\n",
        "* [Lil'log's Blog](https://lilianweng.github.io/posts/2018-08-12-vae/#vae-variational-autoencoder)"
      ],
      "metadata": {
        "id": "S9_wqcDiTdDS"
      }
    },
    {
      "cell_type": "code",
      "source": [
        "import torch\n",
        "import torch.nn as nn\n",
        "import torch.nn.functional as F\n",
        "import torch.optim as optim\n",
        "from torchvision import datasets, transforms\n",
        "from torch.utils.data import DataLoader\n",
        "import matplotlib.pyplot as plt"
      ],
      "metadata": {
        "id": "Yesc6MXBTjyb"
      },
      "execution_count": 1,
      "outputs": []
    },
    {
      "cell_type": "code",
      "source": [
        "# Define data transformations\n",
        "transform = transforms.Compose([\n",
        "    transforms.ToTensor(),\n",
        "])\n",
        "\n",
        "# Load MNIST Dataset\n",
        "train_dataset = datasets.MNIST(\n",
        "    root='./data',\n",
        "    train=True,\n",
        "    transform=transform,\n",
        "    download=True\n",
        ")\n",
        "\n",
        "# Create DataLoader\n",
        "train_loader = DataLoader(\n",
        "    dataset=train_dataset,\n",
        "    batch_size=128,\n",
        "    shuffle=True\n",
        ")"
      ],
      "metadata": {
        "id": "3jAoQIqDnuF6"
      },
      "execution_count": null,
      "outputs": []
    },
    {
      "cell_type": "code",
      "source": [
        "class Encoder(nn.Module):\n",
        "    def __init__(self, input_dim=784, hidden_dim=400, latent_dim=20):\n",
        "        super().__init__()\n",
        "\n",
        "        # First dense layer\n",
        "        self.linear1 = nn.Linear(input_dim, hidden_dim)\n",
        "\n",
        "        # Layer for mean\n",
        "        self.mean_layer = nn.Linear(hidden_dim, latent_dim)\n",
        "\n",
        "        # Layer for variance\n",
        "        self.logvar_layer = nn.Linear(hidden_dim, latent_dim)\n",
        "\n",
        "    def forward(self, x):\n",
        "        # x shape: [batch_size, 1, 28, 28]\n",
        "\n",
        "        # Flatten the input\n",
        "        x = x.view(x.size(0), -1)  # Now: [batch_size, 784]\n",
        "\n",
        "        # First dense layer with ReLU\n",
        "        x = F.relu(self.linear1(x))\n",
        "\n",
        "        # Get mean and logvar\n",
        "        mean = self.mean_layer(x)\n",
        "        logvar = self.logvar_layer(x)\n",
        "\n",
        "        return mean, logvar"
      ],
      "metadata": {
        "id": "HeXdgAJtpV1X"
      },
      "execution_count": null,
      "outputs": []
    },
    {
      "cell_type": "code",
      "source": [
        "class VAE(nn.Module):\n",
        "    def __init__(self, input_dim=784, hidden_dim=400, latent_dim=20):\n",
        "        super().__init__()\n",
        "\n",
        "        # Initialize encoder\n",
        "        self.encoder = Encoder(input_dim, hidden_dim, latent_dim)\n",
        "\n",
        "        # Initialize decoder\n",
        "        self.decoder = nn.Sequential(\n",
        "            nn.Linear(latent_dim, hidden_dim),\n",
        "            nn.ReLU(),\n",
        "            nn.Linear(hidden_dim, input_dim),\n",
        "            nn.Sigmoid()  # Since MNIST pixel values are between 0 and 1\n",
        "        )\n",
        "\n",
        "    def reparameterize(self, mean, logvar):\n",
        "        \"\"\"\n",
        "        Reparameterization trick to sample from N(mean, var) from N(0,1).\n",
        "        :param mean: (Tensor) Mean of the latent Gaussian [B x D]\n",
        "        :param logvar: (Tensor) Standard deviation of the latent Gaussian [B x D]\n",
        "        :return: (Tensor) [B x D]\n",
        "        \"\"\"\n",
        "        std = torch.exp(0.5 * logvar)  # standard deviation\n",
        "        eps = torch.randn_like(std)  # `randn_like` as we need the same size\n",
        "        return mean + eps * std\n",
        "\n",
        "    def forward(self, x):\n",
        "        # Get mean and logvar from encoder\n",
        "        mean, logvar = self.encoder(x)\n",
        "\n",
        "        # Reparameterization\n",
        "        z = self.reparameterize(mean, logvar)\n",
        "\n",
        "        # Decode\n",
        "        reconstruction = self.decoder(z)\n",
        "\n",
        "        # Reshape reconstruction\n",
        "        reconstruction = reconstruction.view(-1, 1, 28, 28)\n",
        "\n",
        "        return reconstruction, mean, logvar"
      ],
      "metadata": {
        "id": "rANID9Zrp-9l"
      },
      "execution_count": null,
      "outputs": []
    },
    {
      "cell_type": "code",
      "source": [
        "def loss_function(recon_x, x, mean, logvar):\n",
        "    \"\"\"\n",
        "    Calculate VAE loss = reconstruction loss + KL divergence\n",
        "    :param recon_x: reconstructed input\n",
        "    :param x: original input\n",
        "    :param mean: mean of the latent distribution\n",
        "    :param logvar: log variance of the latent distribution\n",
        "    \"\"\"\n",
        "    # Reconstruction loss (Binary Cross Entropy)\n",
        "    BCE = F.binary_cross_entropy(recon_x, x.view(-1, 784), reduction='sum')\n",
        "\n",
        "    # KL divergence loss\n",
        "    # For two Gaussians: N(mean, std) and N(0, 1)\n",
        "    # KL = 0.5 * sum(1 + log(std^2) - mean^2 - std^2)\n",
        "    KLD = -0.5 * torch.sum(1 + logvar - mean.pow(2) - logvar.exp())\n",
        "\n",
        "    return BCE + KLD"
      ],
      "metadata": {
        "id": "l-tpsbL8qQ39"
      },
      "execution_count": null,
      "outputs": []
    },
    {
      "cell_type": "code",
      "source": [
        "# Device configuration\n",
        "device = torch.device('cuda' if torch.cuda.is_available() else 'cpu')\n",
        "\n",
        "# Model parameters\n",
        "input_dim = 784  # 28x28 images\n",
        "hidden_dim = 400\n",
        "latent_dim = 20\n",
        "num_epochs = 50\n",
        "batch_size = 128\n",
        "learning_rate = 1e-3\n",
        "\n",
        "# Initialize model and optimizer\n",
        "model = VAE(input_dim, hidden_dim, latent_dim).to(device)\n",
        "optimizer = optim.Adam(model.parameters(), lr=learning_rate)\n",
        "\n",
        "# Lists to store losses for plotting\n",
        "train_losses = []\n",
        "bce_losses = []\n",
        "kld_losses = []"
      ],
      "metadata": {
        "id": "p0l5tgserf_E"
      },
      "execution_count": null,
      "outputs": []
    },
    {
      "cell_type": "code",
      "source": [
        "def train_epoch(epoch):\n",
        "    model.train()\n",
        "    total_loss = 0\n",
        "    total_bce = 0\n",
        "    total_kld = 0\n",
        "\n",
        "    for batch_idx, (data, _) in enumerate(train_loader):\n",
        "        data = data.to(device)\n",
        "        optimizer.zero_grad()\n",
        "\n",
        "        # Forward pass\n",
        "        recon_batch, mean, logvar = model(data)\n",
        "\n",
        "        # Calculate loss\n",
        "        recon_loss = F.binary_cross_entropy(recon_batch, data.view(-1, 784), reduction='sum')\n",
        "        kld_loss = -0.5 * torch.sum(1 + logvar - mean.pow(2) - logvar.exp())\n",
        "        loss = recon_loss + kld_loss\n",
        "\n",
        "        # Backward pass and optimize\n",
        "        loss.backward()\n",
        "        optimizer.step()\n",
        "\n",
        "        # Track losses\n",
        "        total_loss += loss.item()\n",
        "        total_bce += recon_loss.item()\n",
        "        total_kld += kld_loss.item()\n",
        "\n",
        "        if batch_idx % 100 == 0:\n",
        "            print(f'Train Epoch: {epoch} [{batch_idx * len(data)}/{len(train_loader.dataset)} '\n",
        "                  f'({100. * batch_idx / len(train_loader):.0f}%)]\\tLoss: {loss.item() / len(data):.6f}')\n",
        "\n",
        "    # Average losses for the epoch\n",
        "    avg_loss = total_loss / len(train_loader.dataset)\n",
        "    avg_bce = total_bce / len(train_loader.dataset)\n",
        "    avg_kld = total_kld / len(train_loader.dataset)\n",
        "\n",
        "    return avg_loss, avg_bce, avg_kld\n",
        "\n",
        "# Training visualization function\n",
        "def plot_losses(train_losses, bce_losses, kld_losses):\n",
        "    plt.figure(figsize=(10, 5))\n",
        "    plt.plot(train_losses, label='Total Loss')\n",
        "    plt.plot(bce_losses, label='Reconstruction Loss')\n",
        "    plt.plot(kld_losses, label='KL Divergence')\n",
        "    plt.xlabel('Epoch')\n",
        "    plt.ylabel('Loss')\n",
        "    plt.legend()\n",
        "    plt.show()"
      ],
      "metadata": {
        "id": "ssANr9aOrgT1"
      },
      "execution_count": null,
      "outputs": []
    },
    {
      "cell_type": "code",
      "source": [
        "# Training loop\n",
        "for epoch in range(1, num_epochs + 1):\n",
        "    loss, bce, kld = train_epoch(epoch)\n",
        "    train_losses.append(loss)\n",
        "    bce_losses.append(bce)\n",
        "    kld_losses.append(kld)\n",
        "\n",
        "    # Plot every 10 epochs\n",
        "    if epoch % 10 == 0:\n",
        "        plot_losses(train_losses, bce_losses, kld_losses)"
      ],
      "metadata": {
        "id": "ErAphRIXrgcZ"
      },
      "execution_count": null,
      "outputs": []
    },
    {
      "cell_type": "code",
      "source": [
        "def visualize_reconstruction(model, data):\n",
        "    with torch.no_grad():\n",
        "        # Get the first 8 images\n",
        "        images = data[:8]\n",
        "\n",
        "        # Reconstruct images\n",
        "        recon, _, _ = model(images)\n",
        "\n",
        "        # Plot original vs reconstructed\n",
        "        plt.figure(figsize=(12, 4))\n",
        "        for i in range(8):\n",
        "            # Original\n",
        "            plt.subplot(2, 8, i + 1)\n",
        "            plt.imshow(images[i][0].cpu(), cmap='gray')\n",
        "            plt.axis('off')\n",
        "\n",
        "            # Reconstructed\n",
        "            plt.subplot(2, 8, i + 9)\n",
        "            plt.imshow(recon[i][0].cpu(), cmap='gray')\n",
        "            plt.axis('off')\n",
        "        plt.show()\n",
        "\n",
        "# Visualize after training\n",
        "visualize_reconstruction(model, next(iter(train_loader))[0])"
      ],
      "metadata": {
        "id": "NrxYB-6trgjU"
      },
      "execution_count": null,
      "outputs": []
    },
    {
      "cell_type": "code",
      "source": [],
      "metadata": {
        "id": "e7gp-7GArgrq"
      },
      "execution_count": null,
      "outputs": []
    }
  ]
}