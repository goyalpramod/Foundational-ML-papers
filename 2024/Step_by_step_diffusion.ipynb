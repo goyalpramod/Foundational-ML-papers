{
 "cells": [
  {
   "cell_type": "code",
   "execution_count": 1,
   "id": "e743e521-2e73-451f-b9ef-b029174c089a",
   "metadata": {},
   "outputs": [],
   "source": [
    "#https://arxiv.org/pdf/2406.08929"
   ]
  },
  {
   "cell_type": "code",
   "execution_count": null,
   "id": "2d8be9c0-ab49-413e-b6a2-1f0cf2f2dcb5",
   "metadata": {},
   "outputs": [],
   "source": []
  }
 ],
 "metadata": {
  "kernelspec": {
   "display_name": "Python 3 (ipykernel)",
   "language": "python",
   "name": "python3"
  },
  "language_info": {
   "codemirror_mode": {
    "name": "ipython",
    "version": 3
   },
   "file_extension": ".py",
   "mimetype": "text/x-python",
   "name": "python",
   "nbconvert_exporter": "python",
   "pygments_lexer": "ipython3",
   "version": "3.12.10"
  }
 },
 "nbformat": 4,
 "nbformat_minor": 5
}
