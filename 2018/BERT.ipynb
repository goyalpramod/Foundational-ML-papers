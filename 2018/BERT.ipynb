{
 "cells": [
  {
   "cell_type": "code",
   "execution_count": 2,
   "id": "c65f4844-fa6c-455f-8205-69040f42256b",
   "metadata": {},
   "outputs": [],
   "source": [
    "import torch\n",
    "import torch.nn as nn\n",
    "import torch.nn.functional as F\n",
    "import numpy as np"
   ]
  },
  {
   "cell_type": "code",
   "execution_count": null,
   "id": "ae7624b6",
   "metadata": {},
   "outputs": [],
   "source": [
    "class MultiHeadAttention(nn.Module):\n",
    "    def __init__(self, num_heads, d_model):\n",
    "        super().__init__()\n",
    "        self.W_Q = nn.Linear(in_features=d_model, out_features=d_model)\n",
    "        self.W_K = nn.Linear(in_features=d_model, out_features=d_model)\n",
    "        self.W_V = nn.Linear(in_features=d_model, out_features=d_model)\n",
    "        self.W_O = nn.Linear(in_features=d_model, out_features=d_model)\n",
    "\n",
    "        self.d_model = d_model\n",
    "        self.num_heads = num_heads\n",
    "        self.d_k = d_model//num_heads\n",
    "\n",
    "    def scaled_dot_product_attention(self, Q, K, V):\n",
    "        \"\"\"\n",
    "        Args:\n",
    "            Q: (Batch, num_head, seq_len_q, d_k)\n",
    "            K: (Batch, num_head, seq_len_k, d_k) \n",
    "            V: (Batch, num_head, seq_len_k, d_v)\n",
    "        Returns:\n",
    "            attention_output: (Batch, num_head, seq_len_q, d_k)\n",
    "        \"\"\"\n",
    "        # scores = torch.einsum(\"bnqd,bnkd -> bnqk\", Q, K) / torch.sqrt(self.d_k) # this causes a bug as torch operations only apply on tensors, not int. But creating another tensor is not efficient. so just use math\n",
    "        scores = torch.einsum(\"bnqd,bnkd -> bnqk\", Q, K) / np.sqrt(self.d_k)\n",
    "        attention_weights = F.softmax(scores, dim=-1)  \n",
    "        attention_output = torch.einsum(\"bnqk,bnkv -> bnqv\", attention_weights, V)\n",
    "\n",
    "        return attention_output\n",
    "\n",
    "    def forward(self,x):\n",
    "        \"\"\" \n",
    "        Args:\n",
    "            x: (Batch, seq_len, d_model)\n",
    "        Returns:\n",
    "            multi_head_attention: (Batch, seq_len, d_model)\n",
    "        \"\"\"\n",
    "        batch = x.shape[0]\n",
    "        Q = self.W_Q(x).reshape(batch, -1, self.num_heads, self.d_k).transpose(1,2)\n",
    "        K = self.W_K(x).reshape(batch, -1, self.num_heads, self.d_k).transpose(1,2)\n",
    "        V = self.W_V(x).reshape(batch, -1, self.num_heads, self.d_k).transpose(1,2)\n",
    "        multi_head_attention = self.scaled_dot_product_attention(Q,K,V)\n",
    "        \n",
    "        multi_head_attention = multi_head_attention.transpose(1,2).reshape(batch, -1, self.d_model)\n",
    "        return self.W_O(multi_head_attention)"
   ]
  },
  {
   "cell_type": "code",
   "execution_count": 4,
   "id": "d028c8bc",
   "metadata": {},
   "outputs": [],
   "source": [
    "class FeedForwardNetwork(nn.Module):\n",
    "    def __init__(self,d_model,d_ff, dropout=0.1):\n",
    "        super().__init__()\n",
    "        self.ffn = nn.Sequential(\n",
    "            nn.Linear(d_model, d_ff),\n",
    "            nn.ReLU(),\n",
    "            nn.Dropout(dropout),\n",
    "            nn.Linear(d_ff,d_model),\n",
    "            nn.Dropout(dropout),\n",
    "        )\n",
    "\n",
    "    def forward(self,x):\n",
    "        return self.ffn(x)"
   ]
  },
  {
   "cell_type": "code",
   "execution_count": 12,
   "id": "25bc7d36",
   "metadata": {},
   "outputs": [],
   "source": [
    "class PositionalEncoding(nn.Module):\n",
    "    def __init__(self, seq_len, d_model):\n",
    "        super().__init__()\n",
    "        self.seq_len = seq_len\n",
    "        self.d_model = d_model #512 int\n",
    "\n",
    "        pe = torch.ones([seq_len,d_model]) #2d array\n",
    "        pos = torch.arange(0,seq_len).view(-1,1) # without view it is (seq_len,) \n",
    "        i = 2*torch.arange(0,d_model//2).view(1,-1) # without view it is (d_model//2,)\n",
    "\n",
    "        pe[:, ::2] = torch.sin(pos/(10000**(i/d_model))) # to broadcast the shape should be (seq_len,1), (1,d_model//2)\n",
    "        pe[:, 1::2] = torch.cos(pos/(10000**(i/d_model)))\n",
    "        # self.pe is now (seq_len,d_model)\n",
    "        pe.unsqueeze_(0) #need _ for in_place\n",
    "        # self.pe is now (1,seq_len, d_model) we need this to math dimension\n",
    "\n",
    "        self.register_buffer(\"pe\", pe)\n",
    "\n",
    "\n",
    "\n",
    "    def forward(self,x):\n",
    "        \"\"\" \n",
    "        Args:\n",
    "            x: (Batch, seq_len, d_model)\n",
    "        \"\"\"\n",
    "        return x + self.pe"
   ]
  },
  {
   "cell_type": "code",
   "execution_count": null,
   "id": "333cd5ef",
   "metadata": {},
   "outputs": [],
   "source": [
    "class Encoder(nn.Module):\n",
    "    def __init__(self, d_model, num_heads, d_ff):\n",
    "        super().__init__()\n",
    "        self.mha = MultiHeadAttention(num_heads=num_heads, d_model=d_model)\n",
    "        self.norm_1 = nn.LayerNorm(normalized_shape=d_model)\n",
    "        self.ffn = FeedForwardNetwork(d_model=d_model, d_ff=d_ff)\n",
    "        self.norm_2 = nn.LayerNorm(normalized_shape=d_model)\n",
    "\n",
    "    def forward(self,x):\n",
    "        x_1 = self.mha(x)\n",
    "        x_2 = self.norm_1(x + x_1)\n",
    "        x_3 = self.ffn(x_2)\n",
    "        x_out = self.norm_2(x_3 + x_2)\n",
    "        return x_out\n"
   ]
  },
  {
   "cell_type": "code",
   "execution_count": null,
   "id": "f37c32ac",
   "metadata": {},
   "outputs": [],
   "source": [
    "class BERT(nn.Module):\n",
    "    def __init__(self):\n",
    "        super().__init__()\n",
    "        pass\n",
    "\n",
    "    def forward(self,x):\n",
    "        pass\n"
   ]
  }
 ],
 "metadata": {
  "kernelspec": {
   "display_name": "foundational-ml-papers",
   "language": "python",
   "name": "python3"
  },
  "language_info": {
   "codemirror_mode": {
    "name": "ipython",
    "version": 3
   },
   "file_extension": ".py",
   "mimetype": "text/x-python",
   "name": "python",
   "nbconvert_exporter": "python",
   "pygments_lexer": "ipython3",
   "version": "3.12.10"
  }
 },
 "nbformat": 4,
 "nbformat_minor": 5
}
