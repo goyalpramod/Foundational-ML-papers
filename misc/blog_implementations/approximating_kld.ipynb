{
 "cells": [
  {
   "cell_type": "code",
   "execution_count": 1,
   "id": "7c00c414-86c8-4005-b65d-ff6d551c28ab",
   "metadata": {},
   "outputs": [],
   "source": [
    "# http://joschu.net/blog/kl-approx.html"
   ]
  },
  {
   "cell_type": "code",
   "execution_count": null,
   "id": "b7bf8919",
   "metadata": {},
   "outputs": [],
   "source": []
  }
 ],
 "metadata": {
  "kernelspec": {
   "display_name": "base",
   "language": "python",
   "name": "python3"
  },
  "language_info": {
   "codemirror_mode": {
    "name": "ipython",
    "version": 3
   },
   "file_extension": ".py",
   "mimetype": "text/x-python",
   "name": "python",
   "nbconvert_exporter": "python",
   "pygments_lexer": "ipython3",
   "version": "3.13.5"
  }
 },
 "nbformat": 4,
 "nbformat_minor": 5
}
