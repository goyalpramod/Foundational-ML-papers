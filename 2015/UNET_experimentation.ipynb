{
 "cells": [
  {
   "cell_type": "markdown",
   "id": "81c6213c-23d8-4050-8434-5f2eac992154",
   "metadata": {},
   "source": [
    "This is a notebook made for fun and experimentation, it is not a tutorial. Consider checking out the other notebook for a structured approach."
   ]
  },
  {
   "cell_type": "code",
   "execution_count": 2,
   "id": "c92a34cd",
   "metadata": {},
   "outputs": [],
   "source": [
    "import torch\n",
    "import torch.nn as nn"
   ]
  },
  {
   "cell_type": "code",
   "execution_count": null,
   "id": "98fadecf",
   "metadata": {},
   "outputs": [],
   "source": [
    "class ConvLayer(nn.Module):\n",
    "    # This will look better as nn.Sequential\n",
    "    def __init__(self, in_channels, out_channels, kernel_size):\n",
    "        self.conv_1 = nn.Conv2d(in_channels=in_channels, out_channels=out_channels, kernel_size=kernel_size)\n",
    "        self.conv_2 = nn.Conv2d(in_channels=out_channels, out_channels=out_channels, kernel_size=kernel_size)\n",
    "        self.relu_1 = nn.ReLU()\n",
    "        self.relu_2 = nn.ReLU()\n",
    "\n",
    "    def forward(self,x):\n",
    "        \"\"\"\n",
    "        Args:\n",
    "            x: (B,C,H,W)\n",
    "        Return:\n",
    "\n",
    "        \"\"\"\n",
    "        x_out = self.conv_1(x)\n",
    "        x_out = self.relu_1(x_out)\n",
    "        x_out = self.conv_2(x_out)\n",
    "        x_out = self.relu_2(x_out)\n",
    "        return x_out\n"
   ]
  },
  {
   "cell_type": "code",
   "execution_count": null,
   "id": "3ac3b3dc",
   "metadata": {},
   "outputs": [],
   "source": [
    "class DownBlock(nn.Module):\n",
    "    def __init__(self, kernel_size, stride):\n",
    "        self.max_pool = nn.MaxPool2d(kernel_size=kernel_size, stride=stride)\n",
    "\n",
    "    def forward(self, x):\n",
    "        x_out = self.max_pool(x)\n",
    "        return x_out"
   ]
  },
  {
   "cell_type": "code",
   "execution_count": null,
   "id": "13ac42e3",
   "metadata": {},
   "outputs": [],
   "source": [
    "class UpBlock(nn.Module):\n",
    "    def __init__(self, in_channels, out_channels, kernel_size):\n",
    "        self.conv_transpose_1 = nn.ConvTranspose2d(in_channels=in_channels, out_channels=out_channels, kernel_size=kernel_size)\n",
    "\n",
    "    def forward(self,x):\n",
    "        x_out = self.conv_transpose_1(x)\n",
    "        return x_out"
   ]
  }
 ],
 "metadata": {
  "kernelspec": {
   "display_name": "foundational-ml-papers",
   "language": "python",
   "name": "python3"
  },
  "language_info": {
   "codemirror_mode": {
    "name": "ipython",
    "version": 3
   },
   "file_extension": ".py",
   "mimetype": "text/x-python",
   "name": "python",
   "nbconvert_exporter": "python",
   "pygments_lexer": "ipython3",
   "version": "3.12.10"
  }
 },
 "nbformat": 4,
 "nbformat_minor": 5
}
