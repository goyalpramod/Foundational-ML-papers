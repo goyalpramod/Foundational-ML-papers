{
 "cells": [
  {
   "cell_type": "markdown",
   "id": "81c6213c-23d8-4050-8434-5f2eac992154",
   "metadata": {},
   "source": [
    "This is a notebook made for fun and experimentation, it is not a tutorial. Consider checking out the other notebook for a structured approach."
   ]
  },
  {
   "cell_type": "code",
   "execution_count": 33,
   "id": "1db17c4e",
   "metadata": {},
   "outputs": [],
   "source": [
    "# Optimize it further and reproduce results"
   ]
  },
  {
   "cell_type": "code",
   "execution_count": 1,
   "id": "c92a34cd",
   "metadata": {},
   "outputs": [],
   "source": [
    "import torch\n",
    "import torch.nn as nn"
   ]
  },
  {
   "cell_type": "code",
   "execution_count": 7,
   "id": "98fadecf",
   "metadata": {},
   "outputs": [],
   "source": [
    "class ConvLayer(nn.Module):\n",
    "    # This will look better as nn.Sequential\n",
    "    def __init__(self, in_channels, out_channels, kernel_size):\n",
    "        super().__init__()\n",
    "        self.conv_1 = nn.Conv2d(in_channels=in_channels, out_channels=out_channels, kernel_size=kernel_size)\n",
    "        self.conv_2 = nn.Conv2d(in_channels=out_channels, out_channels=out_channels, kernel_size=kernel_size)\n",
    "        self.relu_1 = nn.ReLU()\n",
    "        self.relu_2 = nn.ReLU()\n",
    "\n",
    "    def forward(self,x):\n",
    "        \"\"\"\n",
    "        Args:\n",
    "            x: (B,C,H,W)\n",
    "        Return:\n",
    "\n",
    "        \"\"\"\n",
    "        x_out = self.conv_1(x)\n",
    "        x_out = self.relu_1(x_out)\n",
    "        x_out = self.conv_2(x_out)\n",
    "        x_out = self.relu_2(x_out)\n",
    "        return x_out\n"
   ]
  },
  {
   "cell_type": "code",
   "execution_count": 8,
   "id": "3ac3b3dc",
   "metadata": {},
   "outputs": [],
   "source": [
    "class DownBlock(nn.Module):\n",
    "    def __init__(self, kernel_size, stride):\n",
    "        super().__init__()\n",
    "        self.max_pool = nn.MaxPool2d(kernel_size=kernel_size, stride=stride)\n",
    "\n",
    "    def forward(self, x):\n",
    "        x_out = self.max_pool(x)\n",
    "        return x_out"
   ]
  },
  {
   "cell_type": "code",
   "execution_count": null,
   "id": "13ac42e3",
   "metadata": {},
   "outputs": [],
   "source": [
    "# F.interpolate and nn.Upsample can be used too\n",
    "class UpBlock(nn.Module):\n",
    "    def __init__(self, in_channels, out_channels, kernel_size):\n",
    "        super().__init__()\n",
    "        self.conv_transpose_1 = nn.ConvTranspose2d(in_channels=in_channels, out_channels=out_channels, kernel_size=kernel_size, stride=2)\n",
    "\n",
    "\n",
    "    def forward(self,x, x_skip_connection):\n",
    "        x_out = self.conv_transpose_1(x)\n",
    "        b_1,c_1,h_1,w_1 = x_out.shape\n",
    "        b_2,c_2,h_2,w_2 = x_skip_connection.shape\n",
    "        x_skip_connection = x_skip_connection[:,:,(h_2-h_1)//2:(h_2-h_1)//2+h_1,(w_2-w_1)//2:(w_2-w_1)//2+w_1]\n",
    "        return torch.cat([x_out,x_skip_connection], dim=1)"
   ]
  },
  {
   "cell_type": "code",
   "execution_count": 26,
   "id": "7a50c571",
   "metadata": {},
   "outputs": [],
   "source": [
    "# Conv_layer is redundant and used in both blocks, should have added it in the class itself\n",
    "class UNet(nn.Module):\n",
    "    def __init__(self, in_channels, out_channels, kernel_size_conv, kernel_size_down_block, kernel_size_up_block, stride):\n",
    "        super().__init__()\n",
    "        self.conv_layer_1 = ConvLayer(in_channels=in_channels, out_channels=out_channels,kernel_size=kernel_size_conv)\n",
    "        self.down_block_1 = DownBlock(kernel_size=kernel_size_down_block, stride=stride)\n",
    "        self.conv_layer_2 = ConvLayer(in_channels=out_channels, out_channels=out_channels*2,kernel_size=kernel_size_conv)\n",
    "        self.down_block_2 = DownBlock(kernel_size=kernel_size_down_block, stride=stride)\n",
    "        self.conv_layer_3 = ConvLayer(in_channels=out_channels*2, out_channels=out_channels*4, kernel_size=kernel_size_conv)\n",
    "        self.down_block_3 = DownBlock(kernel_size=kernel_size_down_block, stride=stride)\n",
    "        self.conv_layer_4 = ConvLayer(in_channels=out_channels*4, out_channels=out_channels*8, kernel_size=kernel_size_conv)\n",
    "        self.down_block_4 = DownBlock(kernel_size=kernel_size_down_block, stride=stride)\n",
    "        self.conv_layer_5 = ConvLayer(in_channels=out_channels*8, out_channels=out_channels*16, kernel_size=kernel_size_conv)\n",
    "        \n",
    "        self.up_layer_1 = UpBlock(in_channels=out_channels*16, out_channels=out_channels*8, kernel_size=kernel_size_up_block)\n",
    "        self.conv_layer_6 = ConvLayer(in_channels=out_channels*16, out_channels=out_channels*8, kernel_size=kernel_size_conv)\n",
    "        self.up_layer_2 = UpBlock(in_channels=out_channels*8, out_channels=out_channels*4, kernel_size=kernel_size_up_block)\n",
    "        self.conv_layer_7 = ConvLayer(in_channels=out_channels*8, out_channels=out_channels*4, kernel_size=kernel_size_conv)\n",
    "        self.up_layer_3 = UpBlock(in_channels=out_channels*4, out_channels=out_channels*2, kernel_size=kernel_size_up_block)\n",
    "        self.conv_layer_8 = ConvLayer(in_channels=out_channels*4, out_channels=out_channels*2, kernel_size=kernel_size_conv)\n",
    "        self.up_layer_4 = UpBlock(in_channels=out_channels*2, out_channels=out_channels, kernel_size=kernel_size_up_block)\n",
    "        self.conv_layer_9 = ConvLayer(in_channels=out_channels*2, out_channels=out_channels, kernel_size=kernel_size_conv)\n",
    "\n",
    "        self.final_conv_layer = nn.Conv2d(in_channels=out_channels, out_channels=2, kernel_size=1)\n",
    "\n",
    "\n",
    "    def forward(self, x):\n",
    "        x1 = self.conv_layer_1(x)\n",
    "        x2 = self.down_block_1(x1)\n",
    "        x2 = self.conv_layer_2(x2)\n",
    "        x3 = self.down_block_2(x2)\n",
    "        x3 = self.conv_layer_3(x3)\n",
    "        x4 = self.down_block_3(x3)\n",
    "        x4 = self.conv_layer_4(x4)\n",
    "        x5 = self.down_block_4(x4)\n",
    "        x5 = self.conv_layer_5(x5)\n",
    "\n",
    "        x_out = self.up_layer_1(x5,x4)\n",
    "        x_out = self.conv_layer_6(x_out)\n",
    "        x_out = self.up_layer_2(x_out, x3)\n",
    "        x_out = self.conv_layer_7(x_out)\n",
    "        x_out = self.up_layer_3(x_out, x2)\n",
    "        x_out = self.conv_layer_8(x_out)\n",
    "        x_out = self.up_layer_4(x_out, x1) \n",
    "        x_out = self.conv_layer_9(x_out)\n",
    "        \n",
    "        x_out = self.final_conv_layer(x_out)\n",
    "        return x_out"
   ]
  },
  {
   "cell_type": "code",
   "execution_count": 31,
   "id": "5d355d3e",
   "metadata": {},
   "outputs": [],
   "source": [
    "model = UNet(in_channels=1, out_channels=64, kernel_size_conv=3, kernel_size_down_block=2, kernel_size_up_block=2, stride=2)\n",
    "dummy_input = torch.randn(1, 1, 572, 572)\n",
    "output = model(dummy_input)"
   ]
  },
  {
   "cell_type": "code",
   "execution_count": 32,
   "id": "c5be6726",
   "metadata": {},
   "outputs": [
    {
     "data": {
      "text/plain": [
       "torch.Size([1, 2, 388, 388])"
      ]
     },
     "execution_count": 32,
     "metadata": {},
     "output_type": "execute_result"
    }
   ],
   "source": [
    "output.shape"
   ]
  },
  {
   "cell_type": "code",
   "execution_count": null,
   "id": "bc4e2158",
   "metadata": {},
   "outputs": [],
   "source": []
  }
 ],
 "metadata": {
  "kernelspec": {
   "display_name": "foundational-ml-papers",
   "language": "python",
   "name": "python3"
  },
  "language_info": {
   "codemirror_mode": {
    "name": "ipython",
    "version": 3
   },
   "file_extension": ".py",
   "mimetype": "text/x-python",
   "name": "python",
   "nbconvert_exporter": "python",
   "pygments_lexer": "ipython3",
   "version": "3.12.10"
  }
 },
 "nbformat": 4,
 "nbformat_minor": 5
}
