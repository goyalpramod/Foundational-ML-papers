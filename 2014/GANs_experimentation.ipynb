{
 "cells": [
  {
   "cell_type": "markdown",
   "id": "9db58664-6cfd-4b5f-8b8b-c51fa59dc13e",
   "metadata": {},
   "source": [
    "This is a notebook made for fun and experimentation, it is not a tutorial. Consider checking out the other notebook for a structured approach."
   ]
  },
  {
   "cell_type": "markdown",
   "id": "96df1461",
   "metadata": {},
   "source": []
  }
 ],
 "metadata": {
  "kernelspec": {
   "display_name": "",
   "name": ""
  },
  "language_info": {
   "name": ""
  }
 },
 "nbformat": 4,
 "nbformat_minor": 5
}
